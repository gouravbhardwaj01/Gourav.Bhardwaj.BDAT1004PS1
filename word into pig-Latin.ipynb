{
 "cells": [
  {
   "cell_type": "markdown",
   "id": "7e6222c4",
   "metadata": {},
   "source": [
    "## Question 6"
   ]
  },
  {
   "cell_type": "code",
   "execution_count": null,
   "id": "1ce69670",
   "metadata": {},
   "outputs": [],
   "source": [
    "# vowel_list = ['a', 'e', 'i', 'o', 'u', 'A', 'E', 'I', 'O', 'U']\n",
    "# word = input('Enter a word: ')\n",
    "vowel=('a','e','i','o','u', 'A', 'E', 'I', 'O', 'U') \n",
    "def pig(word):\n",
    "    if(word[0].lower() in vowel):  #checking if 1st alphabet is vowel or not\n",
    "        print(word.lower()+'way')\n",
    "    else:\n",
    "        print(word[1:].lower()+word[0].lower()+'ay') \n",
    "    pig('happy')\n",
    "    pig('Enter')\n"
   ]
  }
 ],
 "metadata": {
  "kernelspec": {
   "display_name": "Python 3 (ipykernel)",
   "language": "python",
   "name": "python3"
  },
  "language_info": {
   "codemirror_mode": {
    "name": "ipython",
    "version": 3
   },
   "file_extension": ".py",
   "mimetype": "text/x-python",
   "name": "python",
   "nbconvert_exporter": "python",
   "pygments_lexer": "ipython3",
   "version": "3.9.7"
  }
 },
 "nbformat": 4,
 "nbformat_minor": 5
}
