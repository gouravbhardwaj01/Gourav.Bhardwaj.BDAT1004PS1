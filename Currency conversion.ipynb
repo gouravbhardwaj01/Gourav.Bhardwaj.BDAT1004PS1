{
 "cells": [
  {
   "cell_type": "markdown",
   "id": "29bfa72c",
   "metadata": {},
   "source": [
    "## Question 8"
   ]
  },
  {
   "cell_type": "code",
   "execution_count": 2,
   "id": "b802798e",
   "metadata": {},
   "outputs": [
    {
     "data": {
      "text/plain": [
       "122.96544"
      ]
     },
     "execution_count": 2,
     "metadata": {},
     "output_type": "execute_result"
    }
   ],
   "source": [
    "def curconv(currency, amount):\n",
    "    module = open('currencies.txt', 'r')\n",
    "    data = module.readlines()\n",
    "    module.close()\n",
    "    for lines in data:\n",
    "        if currency == lines.split()[0]:\n",
    "            return float(lines.split()[1])*amount\n",
    "curconv('EUR',100)"
   ]
  },
  {
   "cell_type": "code",
   "execution_count": 3,
   "id": "2ccff1bd",
   "metadata": {},
   "outputs": [
    {
     "data": {
      "text/plain": [
       "1.241401"
      ]
     },
     "execution_count": 3,
     "metadata": {},
     "output_type": "execute_result"
    }
   ],
   "source": [
    "def curconv(currency, amount):\n",
    "    module = open('currencies.txt', 'r')\n",
    "    data = module.readlines()\n",
    "    module.close()\n",
    "    for lines in data:\n",
    "        if currency == lines.split()[0]:\n",
    "            return float(lines.split()[1])*amount\n",
    "curconv('JPY',100)"
   ]
  }
 ],
 "metadata": {
  "kernelspec": {
   "display_name": "Python 3 (ipykernel)",
   "language": "python",
   "name": "python3"
  },
  "language_info": {
   "codemirror_mode": {
    "name": "ipython",
    "version": 3
   },
   "file_extension": ".py",
   "mimetype": "text/x-python",
   "name": "python",
   "nbconvert_exporter": "python",
   "pygments_lexer": "ipython3",
   "version": "3.9.7"
  }
 },
 "nbformat": 4,
 "nbformat_minor": 5
}
