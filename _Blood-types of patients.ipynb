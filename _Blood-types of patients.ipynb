{
 "cells": [
  {
   "cell_type": "markdown",
   "id": "7c068f02",
   "metadata": {},
   "source": [
    "## Question 7"
   ]
  },
  {
   "cell_type": "code",
   "execution_count": 2,
   "id": "3317d9ad",
   "metadata": {},
   "outputs": [
    {
     "name": "stdout",
     "output_type": "stream",
     "text": [
      "There are 15 patients of blood type A.\n",
      "There is one patient of blood type B.\n",
      "There are 13 patients of blood type AB.\n",
      "There are 15 patients of blood type O.\n",
      "There are no patients of blood type OO.\n"
     ]
    }
   ],
   "source": [
    "def bldcount(filename):\n",
    "    infile=open(filename, 'r')\n",
    "    content= infile.read()\n",
    "    infile.close()\n",
    "    content=content.split()\n",
    "    bloodtype = ['A','B','AB','O','OO']\n",
    "for i in bloodtype:\n",
    "    if content.count(i)==0:\n",
    "    print('There are no patients of blood type',i+'.')\n",
    "    elif content.count(i)==1:\n",
    "    print('There is one patient of blood type',i+'.')\n",
    "    else:print('There are',content.count(i),'patients of blood type', i+'.')\n",
    "bldcount('Bloodtype1.txt')"
   ]
  },
  {
   "cell_type": "code",
   "execution_count": null,
   "id": "1e4b557d",
   "metadata": {},
   "outputs": [],
   "source": []
  }
 ],
 "metadata": {
  "kernelspec": {
   "display_name": "Python 3 (ipykernel)",
   "language": "python",
   "name": "python3"
  },
  "language_info": {
   "codemirror_mode": {
    "name": "ipython",
    "version": 3
   },
   "file_extension": ".py",
   "mimetype": "text/x-python",
   "name": "python",
   "nbconvert_exporter": "python",
   "pygments_lexer": "ipython3",
   "version": "3.9.7"
  }
 },
 "nbformat": 4,
 "nbformat_minor": 5
}
