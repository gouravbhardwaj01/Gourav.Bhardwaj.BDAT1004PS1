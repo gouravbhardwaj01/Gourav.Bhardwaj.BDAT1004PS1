{
 "cells": [
  {
   "cell_type": "markdown",
   "id": "3a077355",
   "metadata": {},
   "source": [
    "# Question 2"
   ]
  },
  {
   "cell_type": "code",
   "execution_count": 23,
   "id": "815c4d83",
   "metadata": {},
   "outputs": [
    {
     "name": "stdout",
     "output_type": "stream",
     "text": [
      "Total number of letters in the string is : 34"
     ]
    }
   ],
   "source": [
    "using System;\n",
    "\n",
    "        string str = \"Supercalifragilisticexpialidocious\";\n",
    "        int count, i, len;\n",
    "        count = i = 0;\n",
    " \n",
    "        len = str.Length;\n",
    " \n",
    "        while (i < len)\n",
    "        {\n",
    "            if ((str[i] >= 'a' && str[i] <= 'z') || (str[i] >= 'A' && str[i] <= 'Z'))\n",
    "            {\n",
    "                count++;\n",
    "            } \n",
    "            i++;\n",
    "        }\n",
    " \n",
    "        Console.Write(\"Total number of letters in the string is : {0}\", count);"
   ]
  },
  {
   "cell_type": "code",
   "execution_count": 35,
   "id": "058daefd",
   "metadata": {},
   "outputs": [
    {
     "name": "stdout",
     "output_type": "stream",
     "text": [
      "Does 'Supercalifragilisticexpialidocious' contain 'ice' as a substring? : True\r\n"
     ]
    }
   ],
   "source": [
    "using System;\n",
    " \n",
    "        String str = \"Supercalifragilisticexpialidocious\";\n",
    "        String substr = \"ice\";\n",
    "        Boolean output = str.Contains(substr);\n",
    "        Console.WriteLine($\"Does 'Supercalifragilisticexpialidocious' contain 'ice' as a substring? : {output}\");"
   ]
  },
  {
   "cell_type": "code",
   "execution_count": 4,
   "id": "95bf18c2",
   "metadata": {},
   "outputs": [
    {
     "name": "stdout",
     "output_type": "stream",
     "text": [
      "Supercalifragilisticexpialidocious and Bababadalgharaghtakamminarronnkonn is the longest string\n",
      "\r\n"
     ]
    }
   ],
   "source": [
    "StringOperations str= new StringOperations();\n",
    "str.Longest(\"Supercalifragilisticexpialidocious\",\"Honorificabilitudinitatibus\",\"Bababadalgharaghtakamminarronnkonn\");\n",
    "\n",
    "public class StringOperations\n",
    "{\n",
    "    public void Longest(string str,string str1,string str2)\n",
    "    {\n",
    "        if(str.Length>=str1.Length)\n",
    "        {\n",
    "            \n",
    "            if(str.Length>=str2.Length)\n",
    "            {\n",
    "                if(str.Length==str1.Length)\n",
    "                {\n",
    "                    Console.WriteLine($\"{str} and {str1} is the longest string\\n\");\n",
    "                }\n",
    "                else if(str.Length==str2.Length)\n",
    "                {\n",
    "                    Console.WriteLine($\"{str} and {str2} is the longest string\\n\");\n",
    "                }\n",
    "                else\n",
    "                {\n",
    "                    Console.WriteLine($\"{str} is the longest string\\n\");\n",
    "                }\n",
    "            }\n",
    "            else\n",
    "            {\n",
    "                Console.WriteLine($\"{str2} is the longest string\\n\");\n",
    "            }\n",
    "        }\n",
    "        else \n",
    "        {\n",
    "            if(str1.Length>=str2.Length)\n",
    "            {\n",
    "                \n",
    "                if(str1.Length==str2.Length)\n",
    "                {\n",
    "                    Console.WriteLine($\"{str1} and {str2} is the longest string\\n\");\n",
    "                }\n",
    "                else\n",
    "                {\n",
    "                    Console.WriteLine($\"{str1} is the longest string\\n\");\n",
    "                }\n",
    "            }\n",
    "            else\n",
    "            {\n",
    "                Console.WriteLine($\"{str2} is the longest string\\n\");\n",
    "            }\n",
    "        }\n",
    "    }\n",
    "}\n"
   ]
  },
  {
   "cell_type": "code",
   "execution_count": 71,
   "id": "2912fe72",
   "metadata": {},
   "outputs": [
    {
     "name": "stdout",
     "output_type": "stream",
     "text": [
      "Key: 1, Value: Berlioz\n",
      "Key: 2, Value: Borodin\n",
      "Key: 3, Value: Brian\n",
      "Key: 4, Value: Bartok\n",
      "Key: 5, Value: Bellini\n",
      "Key: 6, Value: Buxtehude\n",
      "Key: 7, Value: Bernstein\n",
      "\n",
      "First element: Berlioz\n",
      "Last element: Bernstein\n"
     ]
    }
   ],
   "source": [
    "Dictionary<string, string> names = new Dictionary<string, string>();\n",
    "names.Add(\"1\", \"Berlioz\");\n",
    "names.Add(\"2\", \"Borodin\");\n",
    "names.Add(\"3\", \"Brian\");\n",
    "names.Add(\"4\", \"Bartok\");\n",
    "names.Add(\"5\", \"Bellini\");\n",
    "names.Add(\"6\", \"Buxtehude\");\n",
    "names.Add(\"7\", \"Bernstein\");\n",
    "\n",
    "foreach (KeyValuePair<string, string> kv in names)\n",
    "{\n",
    "        Console.WriteLine(\"Key: {0}, Value: {1}\", kv.Key, kv.Value);\n",
    " }\n",
    "\n",
    "var first = names.Values.First();\n",
    "Console.WriteLine(\"\\nFirst element: \" + first);\n",
    "var last = names.Values.Last();\n",
    "Console.WriteLine(\"Last element: \" + last);\n"
   ]
  },
  {
   "cell_type": "code",
   "execution_count": null,
   "id": "4ce140d4",
   "metadata": {},
   "outputs": [],
   "source": []
  }
 ],
 "metadata": {
  "kernelspec": {
   "display_name": ".NET (C#)",
   "language": "C#",
   "name": ".net-csharp"
  },
  "language_info": {
   "file_extension": ".cs",
   "mimetype": "text/x-csharp",
   "name": "C#",
   "pygments_lexer": "csharp",
   "version": "9.0"
  }
 },
 "nbformat": 4,
 "nbformat_minor": 5
}
