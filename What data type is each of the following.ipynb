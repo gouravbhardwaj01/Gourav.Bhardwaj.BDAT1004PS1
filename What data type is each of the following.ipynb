{
 "cells": [
  {
   "cell_type": "markdown",
   "id": "1f9188db",
   "metadata": {},
   "source": [
    "### Question 1:\n",
    "\n",
    "5                    - int\n",
    "\n",
    "5.0                  - float\n",
    "\n",
    "5 > 1                - boolean\n",
    "\n",
    "'5'                  - character\n",
    "\n",
    "5 * 2                - int\n",
    "\n",
    "'5' * 2              - int\n",
    "\n",
    "'5' + '2'            - int\n",
    "\n",
    "5 / 2                - int\n",
    "\n",
    "5 % 2                - int\n",
    "\n",
    "{5, 2, 1}            - int\n",
    "\n",
    "5 == 3               - boolean\n",
    "\n",
    "Pi (the number)      - float\n"
   ]
  },
  {
   "cell_type": "code",
   "execution_count": 42,
   "id": "1829da46",
   "metadata": {},
   "outputs": [
    {
     "name": "stdout",
     "output_type": "stream",
     "text": [
      "True\r\n"
     ]
    }
   ],
   "source": [
    "using System;\n",
    "\n",
    "int a = 5;\n",
    "int b = 1;\n",
    "Console.WriteLine(a>b);"
   ]
  },
  {
   "cell_type": "code",
   "execution_count": 32,
   "id": "3666ff36",
   "metadata": {},
   "outputs": [
    {
     "name": "stdout",
     "output_type": "stream",
     "text": [
      "10\r\n"
     ]
    }
   ],
   "source": [
    "using System;\n",
    "\n",
    "int a = 5;\n",
    "int b = 2;\n",
    "Console.WriteLine(a*b);"
   ]
  },
  {
   "cell_type": "code",
   "execution_count": 39,
   "id": "ad224281",
   "metadata": {},
   "outputs": [
    {
     "name": "stdout",
     "output_type": "stream",
     "text": [
      "106\r\n"
     ]
    }
   ],
   "source": [
    "using System;\n",
    "\n",
    "char a = '5';\n",
    "int b = 2;\n",
    "Console.WriteLine(a*b);"
   ]
  },
  {
   "cell_type": "code",
   "execution_count": 35,
   "id": "411f9804",
   "metadata": {},
   "outputs": [
    {
     "name": "stdout",
     "output_type": "stream",
     "text": [
      "103\r\n"
     ]
    }
   ],
   "source": [
    "using System;\n",
    "\n",
    "char a = '5';\n",
    "char b = '2';\n",
    "Console.WriteLine(a+b);"
   ]
  },
  {
   "cell_type": "code",
   "execution_count": 38,
   "id": "71f1b33c",
   "metadata": {},
   "outputs": [
    {
     "name": "stdout",
     "output_type": "stream",
     "text": [
      "2\r\n"
     ]
    }
   ],
   "source": [
    "using System;\n",
    "\n",
    "int a = 5;\n",
    "int b = 2;\n",
    "Console.WriteLine(a/b);"
   ]
  },
  {
   "cell_type": "code",
   "execution_count": 43,
   "id": "8084e611",
   "metadata": {},
   "outputs": [
    {
     "name": "stdout",
     "output_type": "stream",
     "text": [
      "1\r\n"
     ]
    }
   ],
   "source": [
    "using System;\n",
    "\n",
    "int a = 5;\n",
    "int b = 2;\n",
    "Console.WriteLine(a%b);"
   ]
  },
  {
   "cell_type": "code",
   "execution_count": 44,
   "id": "9610c9aa",
   "metadata": {},
   "outputs": [
    {
     "name": "stdout",
     "output_type": "stream",
     "text": [
      "False\r\n"
     ]
    }
   ],
   "source": [
    "using System;\n",
    "\n",
    "int a = 5;\n",
    "int b = 3;\n",
    "Console.WriteLine(a == b);"
   ]
  }
 ],
 "metadata": {
  "kernelspec": {
   "display_name": ".NET (C#)",
   "language": "C#",
   "name": ".net-csharp"
  },
  "language_info": {
   "file_extension": ".cs",
   "mimetype": "text/x-csharp",
   "name": "C#",
   "pygments_lexer": "csharp",
   "version": "9.0"
  }
 },
 "nbformat": 4,
 "nbformat_minor": 5
}
