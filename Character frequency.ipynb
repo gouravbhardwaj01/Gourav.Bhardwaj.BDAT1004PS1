{
 "cells": [
  {
   "cell_type": "markdown",
   "id": "9cdd2507",
   "metadata": {},
   "source": [
    "## Question 10"
   ]
  },
  {
   "cell_type": "code",
   "execution_count": 11,
   "id": "21d70a98",
   "metadata": {},
   "outputs": [
    {
     "name": "stdout",
     "output_type": "stream",
     "text": [
      "[1, 1, 1, 3, 5, 1, 1, 2, 1, 0, 1, 0, 1, 2, 4, 0, 1, 2, 0, 2, 1, 0, 1, 1, 0, 0]\n",
      "[1, 0, 0, 0, 1, 0, 0, 0, 0, 0, 0, 1, 0, 0, 0, 2, 0, 0, 0, 0, 0, 0, 0, 0, 0, 0]\n"
     ]
    }
   ],
   "source": [
    "def frequencies(words):\n",
    "    count = 0;\n",
    "    letters = 'abcdefghijklmnopqrstuvwxyz'\n",
    "    newlst=[]\n",
    "    for i in letters:\n",
    "        for j in words:\n",
    "            if i==j:\n",
    "                count += 1\n",
    "        newlst.append(count)\n",
    "        count = 0\n",
    "    print(newlst)\n",
    "frequencies('The quick red fox got bored and went home.')\n",
    "frequencies('apple')"
   ]
  }
 ],
 "metadata": {
  "kernelspec": {
   "display_name": "Python 3 (ipykernel)",
   "language": "python",
   "name": "python3"
  },
  "language_info": {
   "codemirror_mode": {
    "name": "ipython",
    "version": 3
   },
   "file_extension": ".py",
   "mimetype": "text/x-python",
   "name": "python",
   "nbconvert_exporter": "python",
   "pygments_lexer": "ipython3",
   "version": "3.9.7"
  }
 },
 "nbformat": 4,
 "nbformat_minor": 5
}
